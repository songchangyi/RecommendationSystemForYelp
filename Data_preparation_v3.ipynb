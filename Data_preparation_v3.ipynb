{
 "cells": [
  {
   "cell_type": "markdown",
   "metadata": {},
   "source": [
    "### Python Modules & configurations"
   ]
  },
  {
   "cell_type": "code",
   "execution_count": 1,
   "metadata": {
    "collapsed": true
   },
   "outputs": [],
   "source": [
    "import pickle # Serialization and deserialization\n",
    "import pandas as pd # Package to manage dataframe like in R\n",
    "import numpy as np # Scientific computing package\n",
    "\n",
    "import matplotlib.pyplot as plt # Basic package for statistical data visualization\n",
    "import seaborn as sns # Advanced package for statistical data visualization\n",
    "\n",
    "# In order to display figures inside the notebook:\n",
    "%matplotlib inline\n",
    "\n",
    "# Display trick to display all columns of large dataframes\n",
    "from IPython.display import display\n",
    "pd.set_option('display.max_columns', None)"
   ]
  },
  {
   "cell_type": "code",
   "execution_count": 2,
   "metadata": {
    "collapsed": true
   },
   "outputs": [],
   "source": [
    "# Shared folder to read saved data\n",
    "SAVED_FOLDER = './data'\n",
    "\n",
    "# Your folder to write new data and create notebooks.\n",
    "MY_FOLDER = './output'"
   ]
  },
  {
   "cell_type": "markdown",
   "metadata": {},
   "source": [
    "### Data Import"
   ]
  },
  {
   "cell_type": "code",
   "execution_count": 3,
   "metadata": {
    "collapsed": true
   },
   "outputs": [],
   "source": [
    "# Let's load data\n",
    "review_df = pd.read_pickle('{}/review.pickle'.format(SAVED_FOLDER))\n",
    "business_df = pd.read_pickle('{}/business.pickle'.format(SAVED_FOLDER))\n",
    "users_df = pd.read_pickle('{}/user.pickle'.format(SAVED_FOLDER))\n",
    "categories_df = pd.read_pickle('{}/categories.pickle'.format(SAVED_FOLDER))\n",
    "tip_df = pd.read_pickle('{}/tip.pickle'.format(SAVED_FOLDER))"
   ]
  },
  {
   "cell_type": "code",
   "execution_count": 4,
   "metadata": {},
   "outputs": [
    {
     "data": {
      "text/plain": [
       "(249440, 13)"
      ]
     },
     "execution_count": 4,
     "metadata": {},
     "output_type": "execute_result"
    }
   ],
   "source": [
    "# Filter the users without friends\n",
    "users_df['nb_friends'] = users_df['friends'].apply(len)\n",
    "users_df = users_df[users_df['nb_friends'] > 0]\n",
    "users_df.shape"
   ]
  },
  {
   "cell_type": "markdown",
   "metadata": {},
   "source": [
    "#### Save / Load pickle"
   ]
  },
  {
   "cell_type": "code",
   "execution_count": 10,
   "metadata": {
    "collapsed": true
   },
   "outputs": [],
   "source": [
    "# Save file\n",
    "# pickle.dump( users_df, open( \"./output/users_df.pickle\", \"wb\" ) )\n",
    "# Load file\n",
    "# pickle.load( open( \"users_df.pickle\", \"rb\" ) )"
   ]
  },
  {
   "cell_type": "code",
   "execution_count": 12,
   "metadata": {},
   "outputs": [
    {
     "data": {
      "text/html": [
       "<div>\n",
       "<style scoped>\n",
       "    .dataframe tbody tr th:only-of-type {\n",
       "        vertical-align: middle;\n",
       "    }\n",
       "\n",
       "    .dataframe tbody tr th {\n",
       "        vertical-align: top;\n",
       "    }\n",
       "\n",
       "    .dataframe thead th {\n",
       "        text-align: right;\n",
       "    }\n",
       "</style>\n",
       "<table border=\"1\" class=\"dataframe\">\n",
       "  <thead>\n",
       "    <tr style=\"text-align: right;\">\n",
       "      <th></th>\n",
       "      <th>user_id</th>\n",
       "      <th>friends</th>\n",
       "    </tr>\n",
       "  </thead>\n",
       "  <tbody>\n",
       "    <tr>\n",
       "      <th>0</th>\n",
       "      <td>rbWWVwvO1729FRTc9SuKLQ</td>\n",
       "      <td>[dCzr2bpptYDbOQ-gSU6iXA, HCpHFbxbMRUvRW-ujHdfF...</td>\n",
       "    </tr>\n",
       "    <tr>\n",
       "      <th>1</th>\n",
       "      <td>rN6txAs4mgyCY3tJD5CVsw</td>\n",
       "      <td>[JYEWTor9qkCeZC7U0bHChg, NCcmBw0bktP8p-XEVMTrs...</td>\n",
       "    </tr>\n",
       "    <tr>\n",
       "      <th>2</th>\n",
       "      <td>fMyqYxU082FtesxvNXAFpg</td>\n",
       "      <td>[30jAE1Xz2bN1mu-1Q46ejg]</td>\n",
       "    </tr>\n",
       "  </tbody>\n",
       "</table>\n",
       "</div>"
      ],
      "text/plain": [
       "                  user_id                                            friends\n",
       "0  rbWWVwvO1729FRTc9SuKLQ  [dCzr2bpptYDbOQ-gSU6iXA, HCpHFbxbMRUvRW-ujHdfF...\n",
       "1  rN6txAs4mgyCY3tJD5CVsw  [JYEWTor9qkCeZC7U0bHChg, NCcmBw0bktP8p-XEVMTrs...\n",
       "2  fMyqYxU082FtesxvNXAFpg                           [30jAE1Xz2bN1mu-1Q46ejg]"
      ]
     },
     "execution_count": 12,
     "metadata": {},
     "output_type": "execute_result"
    }
   ],
   "source": [
    "# Obtain the friendship mapping\n",
    "user_friends_list = users_df.reset_index()[['user_id','friends']].copy()\n",
    "user_friends_list.head(3)"
   ]
  },
  {
   "cell_type": "markdown",
   "metadata": {},
   "source": [
    "### Friendship"
   ]
  },
  {
   "cell_type": "markdown",
   "metadata": {},
   "source": [
    "#### All data (warning: long time to execute)"
   ]
  },
  {
   "cell_type": "code",
   "execution_count": 8,
   "metadata": {
    "collapsed": true
   },
   "outputs": [
    {
     "name": "stdout",
     "output_type": "stream",
     "text": [
      "16000\n",
      "19000\n",
      "31000\n",
      "34000\n",
      "38000\n",
      "39000\n",
      "56000\n",
      "64000\n",
      "68000\n",
      "69000\n",
      "87000\n",
      "97000\n",
      "121000\n",
      "123000\n",
      "132000\n",
      "137000\n",
      "152000\n",
      "173000\n",
      "184000\n",
      "185000\n",
      "187000\n",
      "189000\n",
      "204000\n",
      "210000\n",
      "244000\n",
      "262000\n",
      "263000\n",
      "301000\n",
      "303000\n",
      "322000\n",
      "333000\n",
      "384000\n",
      "395000\n",
      "401000\n",
      "402000\n",
      "411000\n",
      "412000\n",
      "427000\n",
      "431000\n",
      "432000\n",
      "438000\n",
      "446000\n",
      "472000\n",
      "486000\n",
      "490000\n",
      "500000\n",
      "501000\n",
      "503000\n",
      "512000\n",
      "513000\n",
      "517000\n",
      "536000\n",
      "544000\n",
      "547000\n",
      "591000\n",
      "680000\n",
      "699000\n",
      "705000\n",
      "708000\n",
      "723000\n",
      "758000\n",
      "771000\n",
      "815000\n",
      "825000\n",
      "827000\n",
      "841000\n",
      "845000\n",
      "849000\n",
      "853000\n",
      "862000\n",
      "875000\n",
      "881000\n",
      "889000\n",
      "893000\n",
      "899000\n",
      "908000\n",
      "922000\n",
      "927000\n",
      "932000\n",
      "936000\n",
      "945000\n",
      "973000\n",
      "978000\n",
      "1003000\n",
      "1004000\n",
      "1006000\n",
      "1035000\n",
      "1039000\n",
      "1040000\n",
      "1042000\n",
      "1064000\n",
      "1065000\n",
      "1066000\n",
      "1072000\n",
      "1085000\n",
      "1099000\n",
      "1114000\n",
      "1118000\n",
      "1128000\n",
      "1150000\n",
      "1187000\n",
      "1209000\n",
      "1220000\n",
      "1225000\n",
      "1252000\n",
      "1254000\n",
      "1271000\n",
      "1272000\n",
      "1276000\n",
      "1279000\n",
      "1283000\n",
      "1292000\n",
      "1293000\n",
      "1297000\n",
      "1303000\n",
      "1320000\n",
      "1345000\n",
      "1378000\n",
      "1389000\n",
      "1405000\n",
      "1418000\n",
      "1428000\n",
      "1473000\n",
      "1476000\n",
      "1505000\n",
      "1508000\n",
      "1509000\n",
      "1524000\n",
      "1548000\n",
      "1562000\n",
      "1568000\n",
      "1593000\n",
      "1599000\n",
      "1634000\n",
      "1635000\n",
      "1649000\n",
      "1669000\n",
      "1690000\n",
      "1701000\n",
      "1704000\n",
      "1739000\n",
      "1742000\n",
      "1744000\n",
      "1760000\n",
      "1765000\n",
      "1772000\n",
      "1790000\n",
      "1795000\n",
      "1796000\n",
      "1804000\n",
      "1815000\n",
      "1819000\n",
      "1835000\n",
      "1837000\n",
      "1844000\n",
      "1851000\n",
      "1864000\n",
      "1878000\n",
      "1890000\n",
      "1948000\n",
      "1972000\n",
      "1973000\n",
      "1975000\n",
      "1983000\n",
      "1986000\n",
      "2004000\n",
      "2046000\n",
      "2068000\n",
      "2084000\n",
      "2094000\n",
      "2097000\n",
      "2114000\n",
      "2115000\n",
      "2140000\n",
      "2147000\n",
      "2157000\n",
      "2160000\n",
      "2174000\n",
      "2184000\n",
      "2199000\n",
      "2227000\n",
      "2248000\n",
      "2251000\n",
      "2254000\n",
      "2269000\n",
      "2292000\n",
      "2301000\n",
      "2333000\n",
      "2355000\n",
      "2366000\n",
      "2393000\n",
      "2404000\n",
      "2413000\n",
      "2418000\n",
      "2430000\n",
      "2438000\n",
      "2458000\n",
      "2487000\n",
      "2490000\n",
      "2491000\n",
      "2492000\n",
      "2495000\n",
      "2500000\n",
      "2546000\n",
      "2550000\n",
      "2551000\n",
      "2580000\n",
      "2596000\n",
      "2620000\n",
      "2622000\n",
      "2655000\n",
      "2692000\n",
      "2694000\n",
      "2695000\n",
      "2739000\n",
      "2740000\n",
      "2780000\n",
      "2791000\n",
      "2792000\n",
      "2841000\n",
      "2888000\n",
      "2899000\n",
      "2918000\n",
      "2926000\n",
      "2953000\n",
      "2960000\n",
      "2965000\n",
      "2966000\n",
      "2968000\n",
      "2970000\n",
      "3000000\n",
      "3013000\n",
      "3064000\n",
      "3073000\n",
      "3079000\n",
      "3080000\n",
      "3085000\n",
      "3101000\n",
      "3119000\n",
      "3125000\n",
      "3132000\n",
      "3141000\n",
      "3185000\n",
      "3201000\n",
      "3220000\n",
      "3231000\n",
      "3233000\n",
      "3235000\n",
      "3264000\n",
      "3266000\n",
      "3270000\n",
      "3275000\n",
      "3287000\n",
      "3288000\n",
      "3289000\n",
      "3297000\n",
      "3309000\n",
      "3313000\n",
      "3327000\n",
      "3349000\n",
      "3376000\n",
      "3386000\n",
      "3395000\n",
      "3405000\n",
      "3440000\n",
      "3443000\n",
      "3451000\n",
      "3479000\n",
      "3503000\n",
      "3509000\n",
      "3512000\n",
      "3527000\n",
      "3531000\n"
     ]
    }
   ],
   "source": [
    "# Simpler mapping\n",
    "sample_user = []\n",
    "cklist = ufl['user_id'].tolist()\n",
    "for row in ufl.itertuples():\n",
    "    rowIndex = ufl.loc[ufl['user_id'] == row[1]].index[0]\n",
    "    for col in row[2]:\n",
    "        if col in cklist:\n",
    "            colIndex = cklist.index(col)\n",
    "            sample_user.append([rowIndex, colIndex, 1])\n",
    "    if len(sample_user) % 1000 == 0:\n",
    "        print(len(sample_user))"
   ]
  },
  {
   "cell_type": "markdown",
   "metadata": {},
   "source": [
    "#### Save friendship"
   ]
  },
  {
   "cell_type": "code",
   "execution_count": 10,
   "metadata": {
    "collapsed": true
   },
   "outputs": [],
   "source": [
    "# Save the sample list in format 'a b c'\n",
    "thefile = open('./output/sample_user.txt', 'w')\n",
    "for item in sample_user: \n",
    "    thefile.write(\"%s\\n\" % (str(item[0]) + ' ' + str(item[1]) + ' ' + str(item[2])))"
   ]
  },
  {
   "cell_type": "markdown",
   "metadata": {},
   "source": [
    "### Ratings"
   ]
  },
  {
   "cell_type": "markdown",
   "metadata": {},
   "source": [
    "#### Preparing for categories list"
   ]
  },
  {
   "cell_type": "code",
   "execution_count": 34,
   "metadata": {
    "collapsed": true
   },
   "outputs": [],
   "source": [
    "# Get the unique categories and save. Filter manually.\n",
    "categories_list_raw = business_user_df['categories'].tolist()\n",
    "categories_list = set()\n",
    "for i in categories_list_raw:\n",
    "    for j in i:\n",
    "        categories_list.add(j)\n",
    "categories_list = list(categories_list)\n",
    "thefile = open('./output/categories_list.txt', 'w')\n",
    "for item in categories_list: \n",
    "    thefile.write(\"%s\\n\" % item)"
   ]
  },
  {
   "cell_type": "code",
   "execution_count": 5,
   "metadata": {},
   "outputs": [
    {
     "data": {
      "text/plain": [
       "77445"
      ]
     },
     "execution_count": 5,
     "metadata": {},
     "output_type": "execute_result"
    }
   ],
   "source": [
    "# All business list\n",
    "business_user_df = business_df.copy()\n",
    "business_list = business_user_df['business_id'].tolist()\n",
    "len(business_list)"
   ]
  },
  {
   "cell_type": "code",
   "execution_count": 6,
   "metadata": {
    "collapsed": true
   },
   "outputs": [],
   "source": [
    "business_user_df = business_user_df.merge(review_df, on='business_id', how='inner', suffixes=['','_review'])"
   ]
  },
  {
   "cell_type": "code",
   "execution_count": 7,
   "metadata": {},
   "outputs": [
    {
     "data": {
      "text/html": [
       "<div>\n",
       "<style scoped>\n",
       "    .dataframe tbody tr th:only-of-type {\n",
       "        vertical-align: middle;\n",
       "    }\n",
       "\n",
       "    .dataframe tbody tr th {\n",
       "        vertical-align: top;\n",
       "    }\n",
       "\n",
       "    .dataframe thead th {\n",
       "        text-align: right;\n",
       "    }\n",
       "</style>\n",
       "<table border=\"1\" class=\"dataframe\">\n",
       "  <thead>\n",
       "    <tr style=\"text-align: right;\">\n",
       "      <th></th>\n",
       "      <th>user_id</th>\n",
       "      <th>business_id</th>\n",
       "      <th>stars</th>\n",
       "    </tr>\n",
       "  </thead>\n",
       "  <tbody>\n",
       "    <tr>\n",
       "      <th>0</th>\n",
       "      <td>_ASpgUPAEw4WR2m954ukcw</td>\n",
       "      <td>w_vBsXaz-XwyN5O_uYRh8Q</td>\n",
       "      <td>4.5</td>\n",
       "    </tr>\n",
       "    <tr>\n",
       "      <th>1</th>\n",
       "      <td>3CHnbZSJle7KnfTvC8i8Sw</td>\n",
       "      <td>w_vBsXaz-XwyN5O_uYRh8Q</td>\n",
       "      <td>4.5</td>\n",
       "    </tr>\n",
       "    <tr>\n",
       "      <th>2</th>\n",
       "      <td>DeqxMIjuPUZHRRP06TLzWA</td>\n",
       "      <td>w_vBsXaz-XwyN5O_uYRh8Q</td>\n",
       "      <td>4.5</td>\n",
       "    </tr>\n",
       "    <tr>\n",
       "      <th>3</th>\n",
       "      <td>dRttS0i4XATOxXCUCJ3oKg</td>\n",
       "      <td>w_vBsXaz-XwyN5O_uYRh8Q</td>\n",
       "      <td>4.5</td>\n",
       "    </tr>\n",
       "    <tr>\n",
       "      <th>4</th>\n",
       "      <td>9sHDVqIHPfVAJIehwg7yXA</td>\n",
       "      <td>OCmmPs_5NBt65ZY7OuG-lA</td>\n",
       "      <td>4.0</td>\n",
       "    </tr>\n",
       "  </tbody>\n",
       "</table>\n",
       "</div>"
      ],
      "text/plain": [
       "                  user_id             business_id  stars\n",
       "0  _ASpgUPAEw4WR2m954ukcw  w_vBsXaz-XwyN5O_uYRh8Q    4.5\n",
       "1  3CHnbZSJle7KnfTvC8i8Sw  w_vBsXaz-XwyN5O_uYRh8Q    4.5\n",
       "2  DeqxMIjuPUZHRRP06TLzWA  w_vBsXaz-XwyN5O_uYRh8Q    4.5\n",
       "3  dRttS0i4XATOxXCUCJ3oKg  w_vBsXaz-XwyN5O_uYRh8Q    4.5\n",
       "4  9sHDVqIHPfVAJIehwg7yXA  OCmmPs_5NBt65ZY7OuG-lA    4.0"
      ]
     },
     "execution_count": 7,
     "metadata": {},
     "output_type": "execute_result"
    }
   ],
   "source": [
    "business_user_df_simple = business_user_df.copy()[['user_id','business_id','stars']]\n",
    "business_user_df_simple.head(5)"
   ]
  },
  {
   "cell_type": "markdown",
   "metadata": {},
   "source": [
    "#### Get matrix: user-item-rate (warning: long to execute)"
   ]
  },
  {
   "cell_type": "code",
   "execution_count": 16,
   "metadata": {},
   "outputs": [
    {
     "data": {
      "text/plain": [
       "1547873"
      ]
     },
     "execution_count": 16,
     "metadata": {},
     "output_type": "execute_result"
    }
   ],
   "source": [
    "sample_business = []\n",
    "for row in business_user_df_simple.itertuples():\n",
    "    if row[1] not in cklist:\n",
    "        continue\n",
    "    rowIndex = cklist.index(row[1])\n",
    "    colIndex = business_list.index(row[2])\n",
    "    sample_business.append([rowIndex, colIndex, row[3]])\n",
    "len(sample_business)"
   ]
  },
  {
   "cell_type": "markdown",
   "metadata": {},
   "source": [
    "#### Save ratings"
   ]
  },
  {
   "cell_type": "code",
   "execution_count": 17,
   "metadata": {
    "collapsed": true
   },
   "outputs": [],
   "source": [
    "# # Save the user business list\n",
    "# thefile = open('D:/Jupyter/TB/Projet308/temp/sample_business.txt', 'w')\n",
    "# for item in sample_business:\n",
    "#     thefile.write(\"%s\\n\" % item)\n",
    "# Save the user business in format 'a b c'\n",
    "thefile = open('D:/Jupyter/TB/Projet308/temp/sample_business.txt', 'w')\n",
    "for item in sample_business: \n",
    "    thefile.write(\"%s\\n\" % (str(item[0]) + ' ' + str(item[1]) + ' ' + str(item[2])))"
   ]
  }
 ],
 "metadata": {
  "anaconda-cloud": {},
  "kernelspec": {
   "display_name": "Python [default]",
   "language": "python",
   "name": "python3"
  },
  "language_info": {
   "codemirror_mode": {
    "name": "ipython",
    "version": 3
   },
   "file_extension": ".py",
   "mimetype": "text/x-python",
   "name": "python",
   "nbconvert_exporter": "python",
   "pygments_lexer": "ipython3",
   "version": "3.5.2"
  }
 },
 "nbformat": 4,
 "nbformat_minor": 1
}
