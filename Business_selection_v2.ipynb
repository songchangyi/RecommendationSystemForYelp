{
 "cells": [
  {
   "cell_type": "markdown",
   "metadata": {},
   "source": [
    "### Python libs & Configs"
   ]
  },
  {
   "cell_type": "code",
   "execution_count": 1,
   "metadata": {
    "collapsed": true
   },
   "outputs": [],
   "source": [
    "import pickle # Serialization and deserialization\n",
    "import pandas as pd # Package to manage dataframe like in R\n",
    "import numpy as np # Scientific computing package\n",
    "import random\n",
    "\n",
    "import matplotlib.pyplot as plt # Basic package for statistical data visualization\n",
    "import seaborn as sns # Advanced package for statistical data visualization\n",
    "\n",
    "# In order to display figures inside the notebook:\n",
    "%matplotlib inline\n",
    "\n",
    "# Display trick to display all columns of large dataframes\n",
    "from IPython.display import display\n",
    "pd.set_option('display.max_columns', None)\n",
    "pd.options.mode.chained_assignment = None  # default='warn'"
   ]
  },
  {
   "cell_type": "code",
   "execution_count": 2,
   "metadata": {
    "collapsed": true
   },
   "outputs": [],
   "source": [
    "SAVED_FOLDER = './data'"
   ]
  },
  {
   "cell_type": "markdown",
   "metadata": {},
   "source": [
    "### Preparation"
   ]
  },
  {
   "cell_type": "markdown",
   "metadata": {},
   "source": [
    "#### Distance function"
   ]
  },
  {
   "cell_type": "code",
   "execution_count": 3,
   "metadata": {
    "collapsed": true
   },
   "outputs": [],
   "source": [
    "from math import radians, cos, sin, asin, sqrt\n",
    "\n",
    "AVG_EARTH_RADIUS = 6371  # in km\n",
    "\n",
    "def haversine(point1, lat2,lng2):\n",
    "    \"\"\" Calculate the great-circle distance bewteen two points on the Earth surface.\n",
    "\n",
    "    :input: two 2-tuples, containing the latitude and longitude of each point\n",
    "    in decimal degrees.\n",
    "\n",
    "    Example: haversine((45.7597, 4.8422), (48.8567, 2.3508))\n",
    "\n",
    "    :output: Returns the distance bewteen the two points.\n",
    "    The default unit is kilometers. Miles can be returned\n",
    "    if the ``miles`` parameter is set to True.\n",
    "\n",
    "    \"\"\"\n",
    "    # unpack latitude/longitude\n",
    "    lat1, lng1 = point1\n",
    "\n",
    "    # convert all latitudes/longitudes from decimal degrees to radians\n",
    "    lat1, lng1, lat2, lng2 = map(radians, (lat1, lng1, lat2, lng2))\n",
    "\n",
    "    # calculate haversine\n",
    "    lat = lat2 - lat1\n",
    "    lng = lng2 - lng1\n",
    "    d = sin(lat * 0.5) ** 2 + cos(lat1) * cos(lat2) * sin(lng * 0.5) ** 2\n",
    "    h = 2 * AVG_EARTH_RADIUS * asin(sqrt(d))\n",
    "\n",
    "    return h  # in kilometers"
   ]
  },
  {
   "cell_type": "markdown",
   "metadata": {},
   "source": [
    "#### Data import"
   ]
  },
  {
   "cell_type": "code",
   "execution_count": 4,
   "metadata": {
    "collapsed": true
   },
   "outputs": [],
   "source": [
    "business_df = pd.read_pickle('{}/business.pickle'.format(SAVED_FOLDER))\n",
    "users_df = pd.read_pickle('{}/user.pickle'.format(SAVED_FOLDER))\n",
    "review_df = pd.read_pickle('{}/review.pickle'.format(SAVED_FOLDER))"
   ]
  },
  {
   "cell_type": "code",
   "execution_count": 5,
   "metadata": {
    "collapsed": true
   },
   "outputs": [
    {
     "name": "stdout",
     "output_type": "stream",
     "text": [
      "                    city  business_id\n",
      "169            Las Vegas        17423\n",
      "270              Phoenix        10629\n",
      "59             Charlotte         5189\n",
      "326           Scottsdale         5139\n",
      "224             Montréal         3891\n",
      "280           Pittsburgh         3337\n",
      "101            Edinburgh         3272\n",
      "205                 Mesa         3190\n",
      "140            Henderson         2839\n",
      "366                Tempe         2773\n",
      "55              Chandler         2425\n",
      "190              Madison         2104\n",
      "125             Glendale         1823\n",
      "122              Gilbert         1716\n",
      "266               Peoria          929\n",
      "156            Karlsruhe          898\n",
      "253      North Las Vegas          819\n",
      "362             Surprise          587\n",
      "54             Champaign          462\n",
      "131             Goodyear          459\n",
      "12              Avondale          386\n",
      "288          Queen Creek          348\n",
      "196             Matthews          346\n",
      "375               Urbana          262\n",
      "386             Waterloo          262\n",
      "117            Fort Mill          238\n",
      "48            Cave Creek          229\n",
      "210            Middleton          208\n",
      "174                Laval          196\n",
      "159            Kitchener          188\n",
      "..                   ...          ...\n",
      "226       Montréal-Ouest            1\n",
      "157     Kennedy Township            1\n",
      "192          Maricopa AZ            1\n",
      "161     L'Île-des-Soeurs            1\n",
      "163               La Paz            1\n",
      "167       Lake Las Vegas            1\n",
      "171        Las Vegas, NV            1\n",
      "178         Le Sud-Ouest            1\n",
      "179        Le Vieux-Port            1\n",
      "182     Litchfield Park             1\n",
      "184               Locust            1\n",
      "185               London            1\n",
      "187          Los Angeles            1\n",
      "188  Lower Lawrenceville            1\n",
      "189                 MMRP            1\n",
      "193            Mascouche            1\n",
      "222       Montreal-Ouest            1\n",
      "194              Mathews            1\n",
      "195              Mattews            1\n",
      "199          McAdenville            1\n",
      "202           McKeesport            1\n",
      "1         110. Las Vegas            1\n",
      "207              Mesa AZ            1\n",
      "208        Metro Phoenix            1\n",
      "209                 Meza            1\n",
      "213        Milton Bridge            1\n",
      "215              Mirabel            1\n",
      "217               Monroe            1\n",
      "220         Montreal-Est            1\n",
      "411       Île des Soeurs            1\n",
      "\n",
      "[412 rows x 2 columns]\n"
     ]
    }
   ],
   "source": [
    "# ordonner les villes par nombre de restaurants\n",
    "business_df_test = business_df.copy()\n",
    "print(business_df_test.groupby(['city']).agg({'business_id':'count'}).reset_index().sort_values(['business_id'], ascending = False))"
   ]
  },
  {
   "cell_type": "code",
   "execution_count": 6,
   "metadata": {
    "collapsed": true
   },
   "outputs": [],
   "source": [
    "category = 'Restaurants'\n",
    "dist_max = 10 #en km\n",
    "rating_min = 4 #Sur 5 étoiles max\n",
    "city = 'Las Vegas' # prendre une ville"
   ]
  },
  {
   "cell_type": "code",
   "execution_count": 7,
   "metadata": {
    "scrolled": true
   },
   "outputs": [
    {
     "name": "stdout",
     "output_type": "stream",
     "text": [
      "(1674, 5)\n"
     ]
    },
    {
     "data": {
      "text/html": [
       "<div>\n",
       "<style scoped>\n",
       "    .dataframe tbody tr th:only-of-type {\n",
       "        vertical-align: middle;\n",
       "    }\n",
       "\n",
       "    .dataframe tbody tr th {\n",
       "        vertical-align: top;\n",
       "    }\n",
       "\n",
       "    .dataframe thead th {\n",
       "        text-align: right;\n",
       "    }\n",
       "</style>\n",
       "<table border=\"1\" class=\"dataframe\">\n",
       "  <thead>\n",
       "    <tr style=\"text-align: right;\">\n",
       "      <th></th>\n",
       "      <th>business_id</th>\n",
       "      <th>city</th>\n",
       "      <th>latitude</th>\n",
       "      <th>longitude</th>\n",
       "      <th>right_category</th>\n",
       "    </tr>\n",
       "  </thead>\n",
       "  <tbody>\n",
       "    <tr>\n",
       "      <th>94</th>\n",
       "      <td>7YnyiTdXPyuDkeM_VED7XQ</td>\n",
       "      <td>Las Vegas</td>\n",
       "      <td>36.104435</td>\n",
       "      <td>-115.136785</td>\n",
       "      <td>True</td>\n",
       "    </tr>\n",
       "    <tr>\n",
       "      <th>136</th>\n",
       "      <td>94HshaJUV3DLvXkvbCbZqg</td>\n",
       "      <td>Las Vegas</td>\n",
       "      <td>36.136924</td>\n",
       "      <td>-115.163492</td>\n",
       "      <td>True</td>\n",
       "    </tr>\n",
       "    <tr>\n",
       "      <th>143</th>\n",
       "      <td>P8gXyZy1ZS7B4S20q8hzPQ</td>\n",
       "      <td>Las Vegas</td>\n",
       "      <td>36.119112</td>\n",
       "      <td>-115.279733</td>\n",
       "      <td>True</td>\n",
       "    </tr>\n",
       "    <tr>\n",
       "      <th>152</th>\n",
       "      <td>er6gWRnG0YgUav-d8MZ9Zw</td>\n",
       "      <td>Las Vegas</td>\n",
       "      <td>36.219223</td>\n",
       "      <td>-115.242704</td>\n",
       "      <td>True</td>\n",
       "    </tr>\n",
       "    <tr>\n",
       "      <th>190</th>\n",
       "      <td>tQQxehL2ZVGp7MqAxtSU_g</td>\n",
       "      <td>Las Vegas</td>\n",
       "      <td>36.143146</td>\n",
       "      <td>-115.259983</td>\n",
       "      <td>True</td>\n",
       "    </tr>\n",
       "  </tbody>\n",
       "</table>\n",
       "</div>"
      ],
      "text/plain": [
       "                business_id       city   latitude   longitude  right_category\n",
       "94   7YnyiTdXPyuDkeM_VED7XQ  Las Vegas  36.104435 -115.136785            True\n",
       "136  94HshaJUV3DLvXkvbCbZqg  Las Vegas  36.136924 -115.163492            True\n",
       "143  P8gXyZy1ZS7B4S20q8hzPQ  Las Vegas  36.119112 -115.279733            True\n",
       "152  er6gWRnG0YgUav-d8MZ9Zw  Las Vegas  36.219223 -115.242704            True\n",
       "190  tQQxehL2ZVGp7MqAxtSU_g  Las Vegas  36.143146 -115.259983            True"
      ]
     },
     "execution_count": 7,
     "metadata": {},
     "output_type": "execute_result"
    }
   ],
   "source": [
    "#Premier filtrage des business, général\n",
    "\n",
    "# Choisir les users qui ont des amis\n",
    "users_df['nb_friends'] = users_df['friends'].apply(len)\n",
    "users_df = users_df[users_df['nb_friends'] > 0]\n",
    "\n",
    "#On travaille sur les colones qui nous intéressent\n",
    "selected_businesses = business_df[['business_id','categories','city','latitude','longitude','stars']]\n",
    "\n",
    "#On crée un champ pour filtrer sur la catégorie\n",
    "selected_businesses['right_category'] = selected_businesses.apply(lambda x : category in x['categories'],axis=1)\n",
    "del(selected_businesses['categories'])\n",
    "\n",
    "#on filtre par catégorie et la note\n",
    "selected_businesses = selected_businesses[selected_businesses['right_category'] == True]\n",
    "selected_businesses = selected_businesses[selected_businesses['stars'] >= rating_min]\n",
    "del(selected_businesses['stars'])\n",
    "\n",
    "# On filtre par ville\n",
    "selected_businesses = selected_businesses[selected_businesses['city'] == city]\n",
    "\n",
    "print(selected_businesses.shape)\n",
    "selected_businesses.head()"
   ]
  },
  {
   "cell_type": "code",
   "execution_count": 8,
   "metadata": {},
   "outputs": [
    {
     "data": {
      "text/plain": [
       "(277065, 8)"
      ]
     },
     "execution_count": 8,
     "metadata": {},
     "output_type": "execute_result"
    }
   ],
   "source": [
    "# Filtre reviews par selected business\n",
    "selected_businesses_list = selected_businesses['business_id'].tolist()\n",
    "selected_review_df = review_df[review_df['business_id'].isin(selected_businesses_list)]\n",
    "selected_review_df.shape"
   ]
  },
  {
   "cell_type": "code",
   "execution_count": 10,
   "metadata": {
    "collapsed": true
   },
   "outputs": [],
   "source": [
    "pickle.dump( selected_review_df, open( \"./output/selected_review_df.pickle\", \"wb\" ) )"
   ]
  },
  {
   "cell_type": "code",
   "execution_count": 9,
   "metadata": {
    "collapsed": true
   },
   "outputs": [],
   "source": [
    "lat_min = selected_businesses['latitude'].min()\n",
    "lat_max = selected_businesses['latitude'].max()\n",
    "long_min = selected_businesses['longitude'].min()\n",
    "long_max = selected_businesses['longitude'].max()"
   ]
  },
  {
   "cell_type": "code",
   "execution_count": 22,
   "metadata": {
    "collapsed": true
   },
   "outputs": [
    {
     "name": "stdout",
     "output_type": "stream",
     "text": [
      "00037460-4f2b-4268-b268-449ac1edfbe1\n",
      "00003901-b68b-4a4d-8db5-33fb365f773a\n",
      "000087c7-1694-4ffc-9d62-a44450369fac\n",
      "00028f10-82a5-4327-aa5d-e338ff7be456\n",
      "0000c74a-cdbd-47e3-a1dc-e5f486883e0a\n",
      "0003a2ea-3f7a-49ec-9a18-4e0361f6c38a\n",
      "0000f17e-08d5-4d97-8380-12034b329472\n",
      "0000b0c3-e82d-4ad4-8aa9-214ff3c5eac9\n",
      "0003cfb5-b0f2-45ff-8ae9-a975d62ff0c1\n",
      "00012a10-b0c5-458c-8953-72895a124681\n",
      "0004b3ff-f90f-413c-8d56-f9675b9de1db\n",
      "00059d79-7003-410d-a97e-6a4062146b61\n",
      "000479e6-1cb7-4b08-97a8-a77b79579567\n",
      "0001aeb2-dc1c-4b36-80bd-b574b32235bb\n",
      "00077447-8604-426d-a918-0108c3ec9796\n",
      "000816ff-33aa-4536-a808-ecd0cef60909\n",
      "0005d836-a94d-4161-8086-f0b4e0dad511\n",
      "0005310c-ef83-4f75-be92-366350160012\n",
      "00040cd8-4b78-4a07-ab2c-068360acc175\n",
      "0006028c-30af-401f-845b-5ca50d296178\n",
      "00053f07-27ad-41c5-b832-b09e6d2baad8\n",
      "0005282d-2050-4e6e-940e-5c8ac05e34aa\n",
      "0007ffa2-f50e-4d79-86c3-53742fbe787b\n",
      "00056207-c667-437c-b4bb-176a43bf911b\n",
      "000832aa-83c4-40d7-b6e8-da852f2840f7\n",
      "0007eb95-6a8a-44ea-8b64-2612b33f1736\n",
      "000ac1d1-3cb8-4c34-84f5-122e2c4006cf\n",
      "0006204d-ce81-4687-964a-c2c4a813b1d2\n",
      "00046ea9-a88c-483b-b5c3-eb83d3bf1d5e\n",
      "00047536-9ebd-449b-a0ca-3163a2ca4b1f\n",
      "000902c8-1983-4ed3-81e2-c8b7605e0b42\n",
      "000b7152-165c-451a-8ea2-f664260bcc48\n",
      "000593c1-c4bd-456e-95bb-461362ba1186\n",
      "000836ff-36cf-4095-b788-77d0bda18cfa\n",
      "00083b60-6938-4f32-b4a8-3942f6a5151a\n",
      "000ad844-cfb7-4091-ab46-e90f6e2d1b98\n",
      "0006070d-837a-4708-90a0-b2d0de8a53f6\n",
      "0005c110-f0e6-4559-9093-f1cb9a792e4d\n",
      "000c65d9-ea23-4002-8695-4e1a4b89a95a\n",
      "000c4a45-559e-4075-8763-35c9be52447e\n",
      "00081a7b-1f82-48c6-9c0b-33bed951dcb7\n",
      "00099ec6-75a6-4c74-9de8-f90ef3b16eb4\n",
      "000d6221-fc2f-4184-9e98-7853730a9718\n",
      "0003918e-97d9-4416-9cc8-cbef99503c22\n",
      "0009f629-1f4b-4e99-ba41-68d6b8c28ba3\n",
      "000ff3aa-906f-4c42-b720-4d066343708f\n",
      "00084224-d659-4bc6-8db8-4305f597b7aa\n",
      "000a1f32-146e-4a99-8898-bb7438c6c92a\n",
      "000e5fc0-87ba-4932-8012-07033ff5cf02\n",
      "000a902e-89bb-412b-8b06-67dc91bdc238\n",
      "0005f4c5-ee67-43ae-9d4a-2e5657dc6bd9\n",
      "000a8a68-46d2-467c-b85d-785a6770cbb8\n",
      "00109e7b-4ecc-4d2b-9600-4def4e6e03a0\n",
      "000e007b-6dff-4bc9-87f0-e60f716b43ff\n",
      "000bcb12-520f-4e3c-9330-a4fec4bb7295\n",
      "000bf311-e210-48a8-a7d5-3dd89715401e\n",
      "0011bdfa-a02a-445a-aa30-a0b188cc1dd0\n",
      "000a2a3f-e670-484b-a5a1-44c51e4c76b6\n",
      "00115109-7d33-4d69-a45f-52a7d4bcf8d2\n",
      "000bfa8b-e8d2-4336-939f-678e0dc2d9a3\n",
      "000e0254-2c81-4826-b95a-31f49d660163\n",
      "001259ff-3d33-4534-81df-fc349a7b43c6\n",
      "000cf5ae-b7f9-4f98-a1a7-510873beeeeb\n",
      "00115632-f7b3-49a1-bbc3-8d8e2135e499\n",
      "00123b23-0d8b-4015-818c-841b8edcd05d\n",
      "001185ad-1007-48e8-bc2c-2281b317d240\n",
      "00148ee8-a137-450f-bf04-534ede746bcf\n",
      "0013f9e9-ce27-4670-b573-e19b3d7fa13d\n",
      "00112231-8bf4-4a94-8716-10b8251c1f28\n",
      "000f7ede-a92e-435f-9ab2-ee19ee5f05b7\n",
      "00129fed-791f-40d1-a403-240f895c5057\n",
      "000edf58-92c4-4364-b229-9f9906be1621\n",
      "00141edc-65b2-4c63-9939-1f99b01c8f9e\n",
      "001018aa-dee1-4e52-97e6-d28de4a162a3\n",
      "00137440-f4d0-4c5a-bf3a-b9d5934f4b45\n",
      "0016877a-ad53-4467-81af-68b71725bbef\n",
      "000cf36a-1691-47b8-941e-7001117f98ef\n",
      "00100d1a-9875-4c85-9557-f987d2ca45c9\n",
      "00110c32-9bbc-4062-8474-70cf418fe7b0\n",
      "001112d0-7e5f-47c7-ad8d-1e030a7e6849\n",
      "00162644-5bbc-423b-ab4e-07370df39f56\n",
      "001440d2-f162-4484-830f-5c96231ff880\n",
      "001db666-d5ff-4675-a78c-e2ea4aa1b3cb\n",
      "0015bd4b-d846-4785-abaf-2aa42430f4ff\n",
      "00191da8-bb55-495f-bd28-4ea261e6bdd7\n",
      "000f7dfd-6c3d-4bcc-9338-2b4ce962213a\n",
      "001e3c39-98f0-44bc-a30a-bf83d31ec194\n",
      "00114284-9e40-43e5-bbd3-c453e76b161d\n",
      "001928a0-a06a-4553-b643-bb19048513d4\n",
      "000f9732-46de-4e8f-85ae-2ba71e886e61\n",
      "001e6c1d-f5e7-42bc-a3e3-22a945e464d6\n",
      "0011e9a4-e4e1-4a43-bce2-671450eff21d\n",
      "001a86cc-ab73-4e0c-a7e5-e627e6df0505\n",
      "0018b3e3-6dbd-42c5-8818-b5db118c319d\n",
      "001c8655-49e2-4100-94be-3059b8061fc6\n",
      "0013ab75-87ac-4f68-bfee-58523dd53e8d\n",
      "00114602-e2c2-4705-b82d-3ceebaf01404\n",
      "001b1b29-e82f-4cab-8e66-e8d47de04d99\n",
      "00193f8b-dd97-443f-a49f-108bc6f3a506\n",
      "001c421b-3fbe-4d20-b071-d228811c6c26\n",
      "Time spent: 19.12 s\n"
     ]
    },
    {
     "data": {
      "text/plain": [
       "(43290, 3)"
      ]
     },
     "execution_count": 22,
     "metadata": {},
     "output_type": "execute_result"
    }
   ],
   "source": [
    "#Second filtrage des businesses, dépendant de l'utilisateur\n",
    "import time\n",
    "\n",
    "#Le test set sous forme de dataframe\n",
    "testset_df = pd.DataFrame()\n",
    "\n",
    "user_list_full = users_df['user_id'].reset_index()\n",
    "user_list = user_list_full['user_id'].iloc[:100].tolist()\n",
    "user_id_code = users_df['id'].tolist()\n",
    "\n",
    "time_start = time.time()\n",
    "for u_id in user_list:\n",
    "    # Random user in Las Vegas:\n",
    "    user_pos = (lat_min + random.random() * (lat_max - lat_min), random.random() * (long_max - long_min) + long_min)\n",
    "    \n",
    "    #On crée la liste des businesses déjà visités par l'utilisateur\n",
    "#     visited_businesses = list(checkin_byhourday_df[checkin_byhourday_df['id'] == user_id_code[user_list.index(u_id)]]['business_id'])\n",
    "    \n",
    "    selected_businesses_for_user = selected_businesses.copy()\n",
    "\n",
    "    #On crée un champ pour filtrer sur la distance\n",
    "    selected_businesses_for_user['distance_user'] = selected_businesses_for_user.apply(lambda x:haversine(user_pos,x['latitude'],x['longitude']),axis=1)\n",
    "    del(selected_businesses_for_user['latitude'])\n",
    "    del(selected_businesses_for_user['longitude'])\n",
    "\n",
    "    #on filtre par la distance et si l'utilisateur y est déjà allé\n",
    "    selected_businesses_for_user = selected_businesses_for_user[selected_businesses_for_user['distance_user'] < dist_max]\n",
    "#     selected_businesses_for_user = selected_businesses_for_user[-selected_businesses_for_user['business_id'].isin(visited_businesses)]\n",
    "    \n",
    "    #on cree un dataframe pour l'utilisateur u_id\n",
    "    testset_user_df = pd.DataFrame()\n",
    "    testset_user_df['distance'] = selected_businesses_for_user['distance_user']\n",
    "    testset_user_df['businesses'] = selected_businesses_for_user['business_id']\n",
    "    testset_user_df['user'] = u_id\n",
    "    \n",
    "    testset_df = testset_df.append(testset_user_df)\n",
    "\n",
    "print('Time spent:', round(time.time() - time_start,2),'s')\n",
    "testset_df.shape"
   ]
  },
  {
   "cell_type": "markdown",
   "metadata": {},
   "source": [
    "#### Create testset"
   ]
  },
  {
   "cell_type": "code",
   "execution_count": 10,
   "metadata": {
    "collapsed": true
   },
   "outputs": [],
   "source": [
    "# Ajouter les scores entre 1 et 5\n",
    "testset_df['star'] = random.randint(1, 5)\n",
    "# Reinitialiser index\n",
    "testset_df = testset_df.reset_index()\n",
    "# Faciliter la recherche\n",
    "index_list = user_list_full['index'].tolist()\n",
    "user_id_list = user_list_full['user_id'].tolist()"
   ]
  },
  {
   "cell_type": "code",
   "execution_count": 11,
   "metadata": {
    "collapsed": true
   },
   "outputs": [
    {
     "data": {
      "text/html": [
       "<div>\n",
       "<style scoped>\n",
       "    .dataframe tbody tr th:only-of-type {\n",
       "        vertical-align: middle;\n",
       "    }\n",
       "\n",
       "    .dataframe tbody tr th {\n",
       "        vertical-align: top;\n",
       "    }\n",
       "\n",
       "    .dataframe thead th {\n",
       "        text-align: right;\n",
       "    }\n",
       "</style>\n",
       "<table border=\"1\" class=\"dataframe\">\n",
       "  <thead>\n",
       "    <tr style=\"text-align: right;\">\n",
       "      <th></th>\n",
       "      <th>index</th>\n",
       "      <th>distance</th>\n",
       "      <th>businesses</th>\n",
       "      <th>user</th>\n",
       "      <th>star</th>\n",
       "    </tr>\n",
       "  </thead>\n",
       "  <tbody>\n",
       "    <tr>\n",
       "      <th>0</th>\n",
       "      <td>2493</td>\n",
       "      <td>8.573528</td>\n",
       "      <td>rR8zCmZCalQTX6AQ_9iDyg</td>\n",
       "      <td>rbWWVwvO1729FRTc9SuKLQ</td>\n",
       "      <td>5</td>\n",
       "    </tr>\n",
       "    <tr>\n",
       "      <th>1</th>\n",
       "      <td>3226</td>\n",
       "      <td>8.132945</td>\n",
       "      <td>-584fn2GxYe9sLsgN2WeQA</td>\n",
       "      <td>rbWWVwvO1729FRTc9SuKLQ</td>\n",
       "      <td>5</td>\n",
       "    </tr>\n",
       "    <tr>\n",
       "      <th>2</th>\n",
       "      <td>3365</td>\n",
       "      <td>8.623651</td>\n",
       "      <td>P1BK2ke-N4XLsBSNWpSeLQ</td>\n",
       "      <td>rbWWVwvO1729FRTc9SuKLQ</td>\n",
       "      <td>5</td>\n",
       "    </tr>\n",
       "    <tr>\n",
       "      <th>3</th>\n",
       "      <td>3427</td>\n",
       "      <td>8.125041</td>\n",
       "      <td>kxAQStRhLvv8fM02OlAZxg</td>\n",
       "      <td>rbWWVwvO1729FRTc9SuKLQ</td>\n",
       "      <td>5</td>\n",
       "    </tr>\n",
       "    <tr>\n",
       "      <th>4</th>\n",
       "      <td>3892</td>\n",
       "      <td>8.456015</td>\n",
       "      <td>rKD-phI46Uc-sQ14lv258w</td>\n",
       "      <td>rbWWVwvO1729FRTc9SuKLQ</td>\n",
       "      <td>5</td>\n",
       "    </tr>\n",
       "  </tbody>\n",
       "</table>\n",
       "</div>"
      ],
      "text/plain": [
       "   index  distance              businesses                    user  star\n",
       "0   2493  8.573528  rR8zCmZCalQTX6AQ_9iDyg  rbWWVwvO1729FRTc9SuKLQ     5\n",
       "1   3226  8.132945  -584fn2GxYe9sLsgN2WeQA  rbWWVwvO1729FRTc9SuKLQ     5\n",
       "2   3365  8.623651  P1BK2ke-N4XLsBSNWpSeLQ  rbWWVwvO1729FRTc9SuKLQ     5\n",
       "3   3427  8.125041  kxAQStRhLvv8fM02OlAZxg  rbWWVwvO1729FRTc9SuKLQ     5\n",
       "4   3892  8.456015  rKD-phI46Uc-sQ14lv258w  rbWWVwvO1729FRTc9SuKLQ     5"
      ]
     },
     "execution_count": 11,
     "metadata": {},
     "output_type": "execute_result"
    }
   ],
   "source": [
    "testset_df.head()"
   ]
  },
  {
   "cell_type": "code",
   "execution_count": 12,
   "metadata": {
    "collapsed": true
   },
   "outputs": [],
   "source": [
    "LS_user_100 = []\n",
    "for row in testset_df.itertuples():\n",
    "    LS_user_100.append([index_list[user_id_list.index(row[4])], row[1], row[5]])"
   ]
  },
  {
   "cell_type": "markdown",
   "metadata": {},
   "source": [
    "#### Save"
   ]
  },
  {
   "cell_type": "code",
   "execution_count": 13,
   "metadata": {
    "collapsed": true
   },
   "outputs": [],
   "source": [
    "# Save the list in format 'a b c'\n",
    "thefile = open('./output/LS_user_100.txt', 'w')\n",
    "for item in LS_user_100: \n",
    "    thefile.write(\"%s\\n\" % (str(item[0]) + ' ' + str(item[1]) + ' ' + str(item[2])))"
   ]
  },
  {
   "cell_type": "code",
   "execution_count": 14,
   "metadata": {
    "collapsed": true
   },
   "outputs": [],
   "source": [
    "# Save file\n",
    "pickle.dump( testset_df, open( \"./output/testset_df.pickle\", \"wb\" ) )\n",
    "pickle.dump( index_list, open( \"./output/index_list.pickle\", \"wb\" ) )\n",
    "pickle.dump( user_id_list, open( \"./output/user_id_list.pickle\", \"wb\" ) )"
   ]
  }
 ],
 "metadata": {
  "anaconda-cloud": {},
  "kernelspec": {
   "display_name": "Python [default]",
   "language": "python",
   "name": "python3"
  },
  "language_info": {
   "codemirror_mode": {
    "name": "ipython",
    "version": 3
   },
   "file_extension": ".py",
   "mimetype": "text/x-python",
   "name": "python",
   "nbconvert_exporter": "python",
   "pygments_lexer": "ipython3",
   "version": "3.5.2"
  }
 },
 "nbformat": 4,
 "nbformat_minor": 1
}
