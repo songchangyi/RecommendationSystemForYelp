{
 "cells": [
  {
   "cell_type": "code",
   "execution_count": 2,
   "metadata": {
    "collapsed": true
   },
   "outputs": [],
   "source": [
    "import numpy as np \n",
    "import random\n",
    "import csv"
   ]
  },
  {
   "cell_type": "code",
   "execution_count": 5,
   "metadata": {
    "collapsed": true
   },
   "outputs": [],
   "source": [
    "mylist1, mylist2=[],[]\n",
    "\n",
    "with open('./output/sample_business.txt') as myfile:\n",
    "    for f in myfile.readlines():\n",
    "        if random.randint(1,10)>8: # Divide into 8:2\n",
    "            mylist1.append(f)\n",
    "        else:\n",
    "            mylist2.append(f)\n",
    "            \n",
    "myfile1 = open('./output/sample_business_test.txt','w')\n",
    "for i in mylist1:\n",
    "    myfile1.write(\"%s\" %i)\n",
    "\n",
    "myfile2 = open('./output/sample_business_train.txt','w')\n",
    "for i in mylist2:\n",
    "    myfile2.write(\"%s\" %i)"
   ]
  }
 ],
 "metadata": {
  "anaconda-cloud": {},
  "kernelspec": {
   "display_name": "Python [default]",
   "language": "python",
   "name": "python3"
  },
  "language_info": {
   "codemirror_mode": {
    "name": "ipython",
    "version": 3
   },
   "file_extension": ".py",
   "mimetype": "text/x-python",
   "name": "python",
   "nbconvert_exporter": "python",
   "pygments_lexer": "ipython3",
   "version": "3.5.2"
  }
 },
 "nbformat": 4,
 "nbformat_minor": 1
}
